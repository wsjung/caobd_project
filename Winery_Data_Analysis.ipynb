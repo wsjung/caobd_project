{
 "cells": [
  {
   "cell_type": "code",
   "execution_count": 1,
   "metadata": {},
   "outputs": [
    {
     "name": "stderr",
     "output_type": "stream",
     "text": [
      "Using TensorFlow backend.\n"
     ]
    }
   ],
   "source": [
    "import csv\n",
    "import re\n",
    "import os\n",
    "import statistics\n",
    "import numpy as np\n",
    "import matplotlib.pyplot as plt\n",
    "import tensorflow as tf\n",
    "import h5py\n",
    "\n",
    "from sklearn.model_selection import train_test_split\n",
    "from keras.preprocessing.sequence import pad_sequences\n",
    "from keras.models import Sequential\n",
    "\n",
    "from keras.layers.core import Activation, Dropout, Dense\n",
    "from keras.layers.embeddings import Embedding\n",
    "from keras.layers import Flatten, Conv1D, GlobalMaxPooling1D, MaxPooling1D, LSTM, GRU\n",
    "\n",
    "from keras.callbacks import EarlyStopping\n",
    "from keras.callbacks import ModelCheckpoint\n",
    "\n",
    "# load a saved model\n",
    "from keras.models import load_model\n",
    "\n",
    "from keras.preprocessing.text import Tokenizer"
   ]
  },
  {
   "cell_type": "markdown",
   "metadata": {},
   "source": [
    "# Get Data"
   ]
  },
  {
   "cell_type": "code",
   "execution_count": 2,
   "metadata": {},
   "outputs": [
    {
     "name": "stdout",
     "output_type": "stream",
     "text": [
      "Processed 150931 lines.\n"
     ]
    }
   ],
   "source": [
    "#open and prepare CSV file for data analysis\n",
    "#NOTE:use pd dataframe next time\n",
    "attributes = []\n",
    "entries = []\n",
    "\n",
    "with open(\"./data/winemag-data_first150k.csv\") as csv_file:\n",
    "    csv_reader = csv.reader(csv_file, delimiter=',')\n",
    "    line_count = 0\n",
    "    for row in csv_reader:\n",
    "        #get attribute names \n",
    "        if line_count == 0:            \n",
    "            for r in row:\n",
    "                attributes.append(r)\n",
    "            \n",
    "            attributes[0] = 'entry'\n",
    "            \n",
    "            line_count += 1\n",
    "\n",
    "        else:\n",
    "            #each entry as a dict of table attributes\n",
    "            entry = {}\n",
    "            n = 0\n",
    "            for r in row:\n",
    "                entry[attributes[n]] = r\n",
    "                n+=1\n",
    "                \n",
    "            entries.append(entry)                  \n",
    "            \n",
    "            line_count += 1\n",
    "    print(f'Processed {line_count} lines.')"
   ]
  },
  {
   "cell_type": "code",
   "execution_count": 3,
   "metadata": {},
   "outputs": [
    {
     "data": {
      "text/plain": [
       "{'entry': '0',\n",
       " 'country': 'US',\n",
       " 'description': 'This tremendous 100% varietal wine hails from Oakville and was aged over three years in oak. Juicy red-cherry fruit and a compelling hint of caramel greet the palate, framed by elegant, fine tannins and a subtle minty tone in the background. Balanced and rewarding from start to finish, it has years ahead of it to develop further nuance. Enjoy 2022–2030.',\n",
       " 'designation': \"Martha's Vineyard\",\n",
       " 'points': '96',\n",
       " 'price': '235.0',\n",
       " 'province': 'California',\n",
       " 'region_1': 'Napa Valley',\n",
       " 'region_2': 'Napa',\n",
       " 'variety': 'Cabernet Sauvignon',\n",
       " 'winery': 'Heitz'}"
      ]
     },
     "execution_count": 3,
     "metadata": {},
     "output_type": "execute_result"
    }
   ],
   "source": [
    "entries[0]"
   ]
  },
  {
   "cell_type": "code",
   "execution_count": 4,
   "metadata": {},
   "outputs": [],
   "source": [
    "#isolate each attribute\n",
    "entry = []\n",
    "country = []\n",
    "description = []\n",
    "designation = []\n",
    "points = []\n",
    "province = []\n",
    "region_1 = []\n",
    "region_2 = []\n",
    "variety = []\n",
    "winery = []\n",
    "\n",
    "\n",
    "for e in entries:\n",
    "    entry.append(e['entry'])\n",
    "    country.append(e['country'])\n",
    "    description.append(e['description'])\n",
    "    designation.append(e['designation'])\n",
    "    points.append(e['points'])\n",
    "    province.append(e['province'])\n",
    "    region_1.append(e['region_1'])\n",
    "    region_2.append(e['region_2'])\n",
    "    variety.append(e['variety'])\n",
    "    winery.append(e['winery'])"
   ]
  },
  {
   "cell_type": "markdown",
   "metadata": {},
   "source": [
    "# Part 1 Explore and prepare data\n",
    "Will try to use text descriptions to try to predict either wine variety, points, or province"
   ]
  },
  {
   "cell_type": "markdown",
   "metadata": {},
   "source": [
    "## Preprocess text descriptions"
   ]
  },
  {
   "cell_type": "code",
   "execution_count": 5,
   "metadata": {},
   "outputs": [],
   "source": [
    "#pre process text in description attribute\n",
    "def preprocess_text(sentence):\n",
    "    # Remove punctuations and numbers\n",
    "    sentence = re.sub('[^a-zA-Z]', ' ', sentence)\n",
    "\n",
    "    # Single character removal\n",
    "    sentence = re.sub(r\"\\s+[a-zA-Z]\\s+\", ' ', sentence)\n",
    "\n",
    "    # Removing multiple spaces\n",
    "    sentence = re.sub(r'\\s+', ' ', sentence)\n",
    "\n",
    "    return sentence"
   ]
  },
  {
   "cell_type": "code",
   "execution_count": 6,
   "metadata": {},
   "outputs": [
    {
     "data": {
      "text/plain": [
       "'This tremendous 100% varietal wine hails from Oakville and was aged over three years in oak. Juicy red-cherry fruit and a compelling hint of caramel greet the palate, framed by elegant, fine tannins and a subtle minty tone in the background. Balanced and rewarding from start to finish, it has years ahead of it to develop further nuance. Enjoy 2022–2030.'"
      ]
     },
     "execution_count": 6,
     "metadata": {},
     "output_type": "execute_result"
    }
   ],
   "source": [
    "description[0]"
   ]
  },
  {
   "cell_type": "code",
   "execution_count": 7,
   "metadata": {},
   "outputs": [
    {
     "data": {
      "text/plain": [
       "'This tremendous varietal wine hails from Oakville and was aged over three years in oak Juicy red cherry fruit and compelling hint of caramel greet the palate framed by elegant fine tannins and subtle minty tone in the background Balanced and rewarding from start to finish it has years ahead of it to develop further nuance Enjoy '"
      ]
     },
     "execution_count": 7,
     "metadata": {},
     "output_type": "execute_result"
    }
   ],
   "source": [
    "preprocess_text(description[0])"
   ]
  },
  {
   "cell_type": "code",
   "execution_count": 8,
   "metadata": {},
   "outputs": [
    {
     "name": "stdout",
     "output_type": "stream",
     "text": [
      "Cabernet Sauvignon \n",
      "points: 96 \n",
      " California\n"
     ]
    }
   ],
   "source": [
    "print(variety[0],\"\\npoints:\",points[0],\"\\n\", province[0])"
   ]
  },
  {
   "cell_type": "code",
   "execution_count": 9,
   "metadata": {},
   "outputs": [],
   "source": [
    "#preprocess all descriptions\n",
    "n=0\n",
    "for text in description:\n",
    "    description[n] = preprocess_text(description[n])\n",
    "    n+=1"
   ]
  },
  {
   "cell_type": "code",
   "execution_count": 10,
   "metadata": {},
   "outputs": [],
   "source": [
    "#length of longest description\n",
    "longest = 0\n",
    "for t in description:\n",
    "    s = t.split()\n",
    "    if len(s) > longest:\n",
    "        longest = len(s)"
   ]
  },
  {
   "cell_type": "code",
   "execution_count": 11,
   "metadata": {},
   "outputs": [
    {
     "data": {
      "text/plain": [
       "132"
      ]
     },
     "execution_count": 11,
     "metadata": {},
     "output_type": "execute_result"
    }
   ],
   "source": [
    "longest"
   ]
  },
  {
   "cell_type": "markdown",
   "metadata": {},
   "source": [
    "## Explore varieties"
   ]
  },
  {
   "cell_type": "code",
   "execution_count": 12,
   "metadata": {},
   "outputs": [
    {
     "name": "stdout",
     "output_type": "stream",
     "text": [
      "There are 632 varieties\n"
     ]
    }
   ],
   "source": [
    "#find all unique varities\n",
    "varieties = []\n",
    "\n",
    "n = 0\n",
    "\n",
    "for v in variety:\n",
    "    if v not in varieties:\n",
    "        varieties.append(v)\n",
    "        n+=1\n",
    "\n",
    "print(\"There are\",len(varieties),\"varieties\")"
   ]
  },
  {
   "cell_type": "code",
   "execution_count": 13,
   "metadata": {
    "scrolled": true
   },
   "outputs": [],
   "source": [
    "#how common is each variety in dataset\n",
    "variety_count = {}\n",
    "\n",
    "for v in varieties:\n",
    "    variety_count[v]=0\n",
    "    \n",
    "for v in variety:\n",
    "    variety_count[v]+=1"
   ]
  },
  {
   "cell_type": "code",
   "execution_count": 14,
   "metadata": {},
   "outputs": [
    {
     "data": {
      "text/plain": [
       "238.8132911392405"
      ]
     },
     "execution_count": 14,
     "metadata": {},
     "output_type": "execute_result"
    }
   ],
   "source": [
    "#avg count of varities\n",
    "sum(variety_count.values())/ len(varieties)"
   ]
  },
  {
   "cell_type": "code",
   "execution_count": 15,
   "metadata": {},
   "outputs": [
    {
     "data": {
      "image/png": "[encoded data removed]",
      "text/plain": [
       "<Figure size 720x720 with 1 Axes>"
      ]
     },
     "metadata": {
      "needs_background": "light"
     },
     "output_type": "display_data"
    }
   ],
   "source": [
    "#look at distribution in graph\n",
    "count_distribution = []\n",
    "\n",
    "for v in variety_count.values():\n",
    "    count_distribution.append(v)\n",
    "\n",
    "count_distribution.sort(reverse=True)   \n",
    "\n",
    "plt.figure(figsize=(10,10))\n",
    "plt.bar(range(len(count_distribution)), count_distribution, width=0.8, bottom=None, align='center', data=None)\n",
    "plt.xlabel('varieties')\n",
    "plt.ylabel('count')\n",
    "plt.show()"
   ]
  },
  {
   "cell_type": "code",
   "execution_count": 16,
   "metadata": {},
   "outputs": [
    {
     "data": {
      "text/plain": [
       "1216.3912983732207"
      ]
     },
     "execution_count": 16,
     "metadata": {},
     "output_type": "execute_result"
    }
   ],
   "source": [
    "#standard deviation\n",
    "statistics.stdev(count_distribution)"
   ]
  },
  {
   "cell_type": "code",
   "execution_count": 17,
   "metadata": {},
   "outputs": [
    {
     "data": {
      "text/plain": [
       "205.39999999999986"
      ]
     },
     "execution_count": 17,
     "metadata": {},
     "output_type": "execute_result"
    }
   ],
   "source": [
    "#check quantile\n",
    "np.quantile(count_distribution,.9)"
   ]
  },
  {
   "cell_type": "markdown",
   "metadata": {},
   "source": [
    "### Conclusion on varieties"
   ]
  },
  {
   "cell_type": "markdown",
   "metadata": {},
   "source": [
    "The skew in the number of samples for each variety is a problem that can drastically effect the prediction model. The upper 90% quartile only has 205 samples; this is still a small amount of samples to train on. Will have to play around with methods to balance the data or may cut out varieties under a certain threshold count."
   ]
  },
  {
   "cell_type": "markdown",
   "metadata": {},
   "source": [
    "### Preprocess varieties"
   ]
  },
  {
   "cell_type": "code",
   "execution_count": 18,
   "metadata": {
    "scrolled": true
   },
   "outputs": [],
   "source": [
    "#covert values to integer\n",
    "int_variety = []\n",
    "variety_key = {}\n",
    "\n",
    "n=0\n",
    "\n",
    "for v in variety:\n",
    "    if v not in variety_key:\n",
    "        variety_key[v] = n\n",
    "        n+=1\n",
    "\n",
    "for v in variety:\n",
    "    int_variety.append(variety_key[v])\n",
    "\n",
    "#print(int_variety)"
   ]
  },
  {
   "cell_type": "markdown",
   "metadata": {},
   "source": [
    "## Explore points"
   ]
  },
  {
   "cell_type": "code",
   "execution_count": 19,
   "metadata": {},
   "outputs": [],
   "source": [
    "#convert string int into int type\n",
    "\n",
    "n = 0\n",
    "for p in points:\n",
    "    points[n] = int(p)\n",
    "    n+=1"
   ]
  },
  {
   "cell_type": "code",
   "execution_count": 20,
   "metadata": {},
   "outputs": [
    {
     "data": {
      "image/png": "[encoded data removed]",
      "text/plain": [
       "<Figure size 720x720 with 1 Axes>"
      ]
     },
     "metadata": {
      "needs_background": "light"
     },
     "output_type": "display_data"
    }
   ],
   "source": [
    "#look at point distribution\n",
    "sorted_points = sorted(points)\n",
    "\n",
    "plt.figure(figsize=(10,10))\n",
    "plt.hist(sorted_points,bins=20, width = 0.9, bottom=None, data=None)\n",
    "plt.xlabel('points')\n",
    "plt.ylabel('count')\n",
    "plt.show()"
   ]
  },
  {
   "cell_type": "code",
   "execution_count": 21,
   "metadata": {},
   "outputs": [
    {
     "data": {
      "text/plain": [
       "3.22239175898376"
      ]
     },
     "execution_count": 21,
     "metadata": {},
     "output_type": "execute_result"
    }
   ],
   "source": [
    "#standard deviation\n",
    "statistics.stdev(points)"
   ]
  },
  {
   "cell_type": "code",
   "execution_count": 22,
   "metadata": {},
   "outputs": [
    {
     "data": {
      "text/plain": [
       "88.0"
      ]
     },
     "execution_count": 22,
     "metadata": {},
     "output_type": "execute_result"
    }
   ],
   "source": [
    "#check quantile\n",
    "np.quantile(points,.5)"
   ]
  },
  {
   "cell_type": "markdown",
   "metadata": {},
   "source": [
    "### Conclusion on points\n",
    "\n",
    "The points distribution looks similar to a bell curve; this suggests that points may be a good attribute to use in predictive models."
   ]
  },
  {
   "cell_type": "markdown",
   "metadata": {},
   "source": [
    "## Explore province"
   ]
  },
  {
   "cell_type": "code",
   "execution_count": 23,
   "metadata": {},
   "outputs": [
    {
     "name": "stdout",
     "output_type": "stream",
     "text": [
      "There are 456 provinces\n"
     ]
    }
   ],
   "source": [
    "#find all unique provinces\n",
    "provinces = []\n",
    "\n",
    "n = 0\n",
    "\n",
    "for p in province:\n",
    "    if p not in provinces:\n",
    "        provinces.append(p)\n",
    "        n+=1\n",
    "\n",
    "print(\"There are\",len(provinces),\"provinces\")"
   ]
  },
  {
   "cell_type": "code",
   "execution_count": 24,
   "metadata": {},
   "outputs": [],
   "source": [
    "#how common is each province in dataset\n",
    "province_count = {}\n",
    "\n",
    "for p in provinces:\n",
    "    province_count[p]=0\n",
    "    \n",
    "for p in province:\n",
    "    province_count[p]+=1"
   ]
  },
  {
   "cell_type": "code",
   "execution_count": 25,
   "metadata": {},
   "outputs": [
    {
     "data": {
      "text/plain": [
       "330.9868421052632"
      ]
     },
     "execution_count": 25,
     "metadata": {},
     "output_type": "execute_result"
    }
   ],
   "source": [
    "#avg count of varities\n",
    "sum(province_count.values())/ len(provinces)"
   ]
  },
  {
   "cell_type": "code",
   "execution_count": 26,
   "metadata": {},
   "outputs": [
    {
     "data": {
      "image/png": "[encoded data removed]",
      "text/plain": [
       "<Figure size 720x720 with 1 Axes>"
      ]
     },
     "metadata": {
      "needs_background": "light"
     },
     "output_type": "display_data"
    }
   ],
   "source": [
    "#look at distribution in graph\n",
    "province_distribution = []\n",
    "\n",
    "for p in province_count.values():\n",
    "    province_distribution.append(p)\n",
    "\n",
    "province_distribution.sort(reverse= True)   \n",
    "\n",
    "plt.figure(figsize=(10,10))\n",
    "plt.bar(range(len(province_distribution)), province_distribution, width=0.8, bottom=None, align='center', data=None)\n",
    "plt.xlabel('provinces')\n",
    "plt.ylabel('count')\n",
    "plt.show()"
   ]
  },
  {
   "cell_type": "code",
   "execution_count": 27,
   "metadata": {},
   "outputs": [
    {
     "data": {
      "text/plain": [
       "2247.6183810068105"
      ]
     },
     "execution_count": 27,
     "metadata": {},
     "output_type": "execute_result"
    }
   ],
   "source": [
    "#standard deviation\n",
    "statistics.stdev(province_distribution)"
   ]
  },
  {
   "cell_type": "markdown",
   "metadata": {},
   "source": [
    "### conclusion on province\n",
    "\n",
    "This data has the same issue as the varieties category. This has a heavy tail distribution in samples, California has over 40,000 samples while the second most surveyed province has just under 10,000 samples. Will try to use the same techniques that will be used on the varieties data in order to make it more useful for models."
   ]
  },
  {
   "cell_type": "markdown",
   "metadata": {},
   "source": [
    "### preprocess province"
   ]
  },
  {
   "cell_type": "code",
   "execution_count": 28,
   "metadata": {},
   "outputs": [],
   "source": [
    "#covert values to integer\n",
    "int_province = []\n",
    "province_key = {}\n",
    "\n",
    "n=0\n",
    "\n",
    "for p in province:\n",
    "    if p not in province_key:\n",
    "        province_key[p] = n\n",
    "        n+=1\n",
    "\n",
    "for p in province:\n",
    "    int_province.append(province_key[p])\n",
    "\n",
    "#print(int_province)"
   ]
  },
  {
   "cell_type": "markdown",
   "metadata": {},
   "source": [
    "## Merge all features into single list"
   ]
  },
  {
   "cell_type": "code",
   "execution_count": 29,
   "metadata": {},
   "outputs": [],
   "source": [
    "#prep for train_test_split\n",
    "zipped = [(a,b,c) for a,b,c in zip(points, int_variety, int_province)]"
   ]
  },
  {
   "cell_type": "markdown",
   "metadata": {},
   "source": [
    "# Part 2: building predictive models based on descriptions"
   ]
  },
  {
   "cell_type": "markdown",
   "metadata": {},
   "source": [
    "## Preprocess text embeddings with pretrained global vector model"
   ]
  },
  {
   "cell_type": "code",
   "execution_count": 30,
   "metadata": {},
   "outputs": [
    {
     "name": "stdout",
     "output_type": "stream",
     "text": [
      "Embedding file already exists!\n",
      "Done!\n"
     ]
    }
   ],
   "source": [
    "if not os.path.exists(\"./glove.6B.100d.txt\"):\n",
    "    with open(\"glove.6B.100d.txt\", \"w+\") as output:\n",
    "        for i in range(0,8):\n",
    "            print(\"Writing embeddings_\" + str(i))\n",
    "            with open(\"./embeddings/embeddings_\"+str(i)) as part:\n",
    "                output.write(\"\".join(part.readlines()))\n",
    "    print(\"Embedding file created!\")\n",
    "else:\n",
    "    print(\"Embedding file already exists!\")\n",
    "    \n",
    "print(\"Done!\")"
   ]
  },
  {
   "cell_type": "code",
   "execution_count": 31,
   "metadata": {},
   "outputs": [],
   "source": [
    "X_train, X_test, y_train, y_test = train_test_split(\n",
    "    description, \n",
    "    zipped, \n",
    "    test_size=0.20, \n",
    "    random_state=42)"
   ]
  },
  {
   "cell_type": "code",
   "execution_count": 32,
   "metadata": {},
   "outputs": [],
   "source": [
    "#create word-to-index dictionary\n",
    "tokenizer = Tokenizer(num_words=5000)\n",
    "tokenizer.fit_on_texts(X_train)\n",
    "\n",
    "# convert text to sequences\n",
    "X_train = tokenizer.texts_to_sequences(X_train)\n",
    "X_test = tokenizer.texts_to_sequences(X_test)\n",
    "\n",
    "# tokenizer dictionary\n",
    "dictionary = tokenizer.word_index"
   ]
  },
  {
   "cell_type": "code",
   "execution_count": 33,
   "metadata": {},
   "outputs": [],
   "source": [
    "#length of current dictionary vocab\n",
    "vocab_size = len(tokenizer.word_index) + 1\n",
    "\n",
    "maxlen = longest\n",
    "\n",
    "X_train = pad_sequences(X_train, padding='post', maxlen=maxlen)\n",
    "X_test = pad_sequences(X_test, padding='post', maxlen=maxlen)"
   ]
  },
  {
   "cell_type": "code",
   "execution_count": 35,
   "metadata": {},
   "outputs": [],
   "source": [
    "embeddings_dictionary = dict()\n",
    "\n",
    "#file is too large to store on git, must download and place in folder manually\n",
    "glove_file = open('./glove.6B.100d.txt', encoding=\"utf8\")\n",
    "\n",
    "#find embeddings for words in train set\n",
    "for line in glove_file:\n",
    "    records = line.split()\n",
    "    word = records[0]\n",
    "    vector_dimensions = np.asarray(records[1:], dtype='float32')\n",
    "    embeddings_dictionary [word] = vector_dimensions\n",
    "glove_file.close()"
   ]
  },
  {
   "cell_type": "code",
   "execution_count": 36,
   "metadata": {},
   "outputs": [],
   "source": [
    "#create embedding matrix for model\n",
    "embedding_matrix = np.zeros((vocab_size, 100))\n",
    "for word, index in tokenizer.word_index.items():\n",
    "    embedding_vector = embeddings_dictionary.get(word)\n",
    "    if embedding_vector is not None:\n",
    "        embedding_matrix[index] = embedding_vector"
   ]
  },
  {
   "cell_type": "code",
   "execution_count": 37,
   "metadata": {},
   "outputs": [
    {
     "data": {
      "text/plain": [
       "True"
      ]
     },
     "execution_count": 37,
     "metadata": {},
     "output_type": "execute_result"
    }
   ],
   "source": [
    "vocab_size == len(embedding_matrix)"
   ]
  },
  {
   "cell_type": "code",
   "execution_count": null,
   "metadata": {},
   "outputs": [],
   "source": []
  },
  {
   "cell_type": "markdown",
   "metadata": {},
   "source": [
    "### build models to predict points"
   ]
  },
  {
   "cell_type": "code",
   "execution_count": 38,
   "metadata": {},
   "outputs": [],
   "source": [
    "#first build regression model on points\n",
    "point_train = []\n",
    "point_test = []\n",
    "\n",
    "for p in y_train:\n",
    "    point_train.append(p[0])\n",
    "    \n",
    "for p in y_test:\n",
    "    point_test.append(p[0])"
   ]
  },
  {
   "cell_type": "code",
   "execution_count": 39,
   "metadata": {},
   "outputs": [
    {
     "name": "stdout",
     "output_type": "stream",
     "text": [
      "0\n",
      "0\n",
      "0\n",
      "0\n",
      "0\n",
      "1\n",
      "1\n",
      "1\n",
      "1\n",
      "1\n",
      "2\n",
      "2\n",
      "2\n",
      "2\n",
      "2\n",
      "3\n",
      "3\n",
      "3\n",
      "3\n",
      "3\n",
      "4\n"
     ]
    }
   ],
   "source": [
    "n = 0\n",
    "for i in range(80,100+1):\n",
    "    print(n)\n",
    "    if (i+1)%5 == 0:\n",
    "        n+=1\n",
    "\n",
    "        \n",
    "        "
   ]
  },
  {
   "cell_type": "code",
   "execution_count": 40,
   "metadata": {},
   "outputs": [],
   "source": [
    "#format data for classification, predicting within point ranges 0-5\n",
    "def classify_points(points, points_test, p_range=5):\n",
    "    min_val = min(points)\n",
    "    max_val = max(points)\n",
    "    \n",
    "    n = 0\n",
    "    \n",
    "    start = min_val\n",
    "    \n",
    "    classes = {}\n",
    "    \n",
    "    for i in range(min_val,max_val+1):\n",
    "        classes[i]=n\n",
    "        if (i+1)%p_range == 0:\n",
    "            n+=1\n",
    "        \n",
    "    i = 0\n",
    "    \n",
    "    class_points = []\n",
    "    class_points_test = []\n",
    "    \n",
    "    for p in points:\n",
    "        class_points.append(classes[p])\n",
    "        \n",
    "    for p in points_test:\n",
    "        class_points_test.append(classes[p])\n",
    "    \n",
    "\n",
    "    return class_points, class_points_test, classes, n+1\n",
    "    \n",
    "    "
   ]
  },
  {
   "cell_type": "code",
   "execution_count": 41,
   "metadata": {},
   "outputs": [],
   "source": [
    "class_points, class_points_test, point_classes, class_num = classify_points(point_train, point_test)"
   ]
  },
  {
   "cell_type": "code",
   "execution_count": 42,
   "metadata": {},
   "outputs": [
    {
     "data": {
      "text/plain": [
       "{80: 0,\n",
       " 81: 0,\n",
       " 82: 0,\n",
       " 83: 0,\n",
       " 84: 0,\n",
       " 85: 1,\n",
       " 86: 1,\n",
       " 87: 1,\n",
       " 88: 1,\n",
       " 89: 1,\n",
       " 90: 2,\n",
       " 91: 2,\n",
       " 92: 2,\n",
       " 93: 2,\n",
       " 94: 2,\n",
       " 95: 3,\n",
       " 96: 3,\n",
       " 97: 3,\n",
       " 98: 3,\n",
       " 99: 3,\n",
       " 100: 4}"
      ]
     },
     "execution_count": 42,
     "metadata": {},
     "output_type": "execute_result"
    }
   ],
   "source": [
    "point_classes"
   ]
  },
  {
   "cell_type": "code",
   "execution_count": 43,
   "metadata": {},
   "outputs": [
    {
     "data": {
      "text/plain": [
       "[0, 1, 1, 2, 1]"
      ]
     },
     "execution_count": 43,
     "metadata": {},
     "output_type": "execute_result"
    }
   ],
   "source": [
    "class_points[0:5]"
   ]
  },
  {
   "cell_type": "code",
   "execution_count": 44,
   "metadata": {},
   "outputs": [
    {
     "data": {
      "text/plain": [
       "[83, 87, 89, 92, 89]"
      ]
     },
     "execution_count": 44,
     "metadata": {},
     "output_type": "execute_result"
    }
   ],
   "source": [
    "point_train[0:5]"
   ]
  },
  {
   "cell_type": "markdown",
   "metadata": {},
   "source": [
    "### 1D CNN"
   ]
  },
  {
   "cell_type": "code",
   "execution_count": 45,
   "metadata": {},
   "outputs": [],
   "source": [
    "# set parameters:\n",
    "max_features = vocab_size\n",
    "maxlen = 132\n",
    "BATCH_SIZE = 128\n",
    "embedding_dims = 50\n",
    "filters = 250\n",
    "kernel_size = 3"
   ]
  },
  {
   "cell_type": "code",
   "execution_count": 46,
   "metadata": {},
   "outputs": [],
   "source": [
    "cnn = Sequential()\n",
    "\n",
    "# start with an efficient embedding layer which maps\n",
    "# vocab indices into embedding_dims dimensions\n",
    "embedding_layer = Embedding(vocab_size, 100, weights=[embedding_matrix], input_length=maxlen , trainable=False)\n",
    "\n",
    "cnn.add(embedding_layer)\n",
    "\n",
    "\n",
    "# we add a Convolution1D, which will learn filters\n",
    "# word group filters of size filter_length:\n",
    "cnn.add(Conv1D(BATCH_SIZE,\n",
    "                 kernel_size,\n",
    "                 padding='valid',\n",
    "                 activation='relu',\n",
    "                 strides=1))\n",
    "# we use max pooling:\n",
    "cnn.add(GlobalMaxPooling1D())\n",
    "\n",
    "# We add a vanilla hidden layer:\n",
    "cnn.add(Dense(BATCH_SIZE))\n",
    "cnn.add(Activation('relu'))\n",
    "\n",
    "# We project onto a single layer\n",
    "cnn.add(Dense(1))\n",
    "\n",
    "\n",
    "cnn.compile(loss='mse',\n",
    "              optimizer='adam',\n",
    "              metrics=['accuracy'])"
   ]
  },
  {
   "cell_type": "code",
   "execution_count": 47,
   "metadata": {
    "scrolled": true
   },
   "outputs": [
    {
     "name": "stdout",
     "output_type": "stream",
     "text": [
      "Model: \"sequential_1\"\n",
      "_________________________________________________________________\n",
      "Layer (type)                 Output Shape              Param #   \n",
      "=================================================================\n",
      "embedding_1 (Embedding)      (None, 132, 100)          2842400   \n",
      "_________________________________________________________________\n",
      "conv1d_1 (Conv1D)            (None, 130, 128)          38528     \n",
      "_________________________________________________________________\n",
      "global_max_pooling1d_1 (Glob (None, 128)               0         \n",
      "_________________________________________________________________\n",
      "dense_1 (Dense)              (None, 128)               16512     \n",
      "_________________________________________________________________\n",
      "activation_1 (Activation)    (None, 128)               0         \n",
      "_________________________________________________________________\n",
      "dense_2 (Dense)              (None, 1)                 129       \n",
      "=================================================================\n",
      "Total params: 2,897,569\n",
      "Trainable params: 55,169\n",
      "Non-trainable params: 2,842,400\n",
      "_________________________________________________________________\n"
     ]
    }
   ],
   "source": [
    "cnn.summary()"
   ]
  },
  {
   "cell_type": "code",
   "execution_count": 48,
   "metadata": {},
   "outputs": [],
   "source": [
    "cnn = load_model('./models/best_cnn.h5')"
   ]
  },
  {
   "cell_type": "code",
   "execution_count": null,
   "metadata": {
    "scrolled": true
   },
   "outputs": [],
   "source": [
    "# simple early stopping\n",
    "es = EarlyStopping(monitor='val_loss', mode='min', verbose=1, patience=350)\n",
    "mc = ModelCheckpoint('./models/best_cnn.h5', monitor='val_accuracy', verbose=1, mode='max',  save_best_only=True)\n",
    "\n",
    "cnn_history = cnn.fit(X_train, point_train, \n",
    "                        batch_size=BATCH_SIZE, \n",
    "                        epochs=10000, \n",
    "                        verbose=0, \n",
    "                        validation_data=(X_test, point_test),\n",
    "                        callbacks=[es,mc])\n"
   ]
  },
  {
   "cell_type": "code",
   "execution_count": 49,
   "metadata": {},
   "outputs": [
    {
     "name": "stdout",
     "output_type": "stream",
     "text": [
      "30186/30186 [==============================] - 3s 113us/step\n",
      "Test Score: 2.9719024417904745\n",
      "Test Accuracy: 0.29513680934906006\n"
     ]
    }
   ],
   "source": [
    "cnn_score = cnn.evaluate(X_test, point_test, verbose=1)\n",
    "print(\"Test Score:\", cnn_score[0])\n",
    "print(\"Test Accuracy:\", cnn_score[1])"
   ]
  },
  {
   "cell_type": "markdown",
   "metadata": {},
   "source": [
    "#### with dropout layers and point classes"
   ]
  },
  {
   "cell_type": "code",
   "execution_count": null,
   "metadata": {},
   "outputs": [],
   "source": [
    "dcnn = Sequential()\n",
    "\n",
    "embedding_layer = Embedding(vocab_size, 100, weights=[embedding_matrix], input_length=maxlen , trainable=False)\n",
    "\n",
    "dcnn.add(embedding_layer)\n",
    "\n",
    "dcnn.add(Dropout(0.2))\n",
    "\n",
    "# Convolution1D will learn filters\n",
    "# word group filters of size filter_length:\n",
    "dcnn.add(Conv1D(BATCH_SIZE,\n",
    "                 kernel_size,\n",
    "                 padding='valid',\n",
    "                 activation='relu',\n",
    "                 strides=1))\n",
    "\n",
    "# use max pooling:\n",
    "dcnn.add(GlobalMaxPooling1D())\n",
    "\n",
    "# add vanilla hidden layer:\n",
    "dcnn.add(Dense(BATCH_SIZE))\n",
    "dcnn.add(Dropout(0.2))\n",
    "dcnn.add(Activation('relu'))\n",
    "\n",
    "# We project onto a single layer\n",
    "dcnn.add(Dense(1))\n",
    "\n",
    "\n",
    "dcnn.compile(loss='mse',\n",
    "              optimizer='adam',\n",
    "              metrics=['accuracy'])"
   ]
  },
  {
   "cell_type": "code",
   "execution_count": 50,
   "metadata": {},
   "outputs": [],
   "source": [
    "dcnn = load_model('./models/best_dcnn.h5')"
   ]
  },
  {
   "cell_type": "code",
   "execution_count": null,
   "metadata": {
    "scrolled": true
   },
   "outputs": [],
   "source": [
    "# simple early stopping\n",
    "es = EarlyStopping(monitor='val_loss', mode='min', verbose=1, patience=300)\n",
    "mc = ModelCheckpoint('./models/best_dcnn.h5', monitor='val_accuracy', verbose=1, mode='max', save_best_only=True)\n",
    "\n",
    "#using dropout\n",
    "dcnn_history = dcnn.fit(X_train, class_points, \n",
    "                        batch_size=BATCH_SIZE, \n",
    "                        epochs=10000, \n",
    "                        verbose=0, \n",
    "                        validation_data=(X_test, class_points_test),\n",
    "                        callbacks=[es,mc])"
   ]
  },
  {
   "cell_type": "code",
   "execution_count": 51,
   "metadata": {},
   "outputs": [
    {
     "name": "stdout",
     "output_type": "stream",
     "text": [
      "30186/30186 [==============================] - 2s 60us/step\n"
     ]
    }
   ],
   "source": [
    "dcnn_score = dcnn.evaluate(X_test, class_points_test, verbose=1)"
   ]
  },
  {
   "cell_type": "code",
   "execution_count": 52,
   "metadata": {},
   "outputs": [
    {
     "name": "stdout",
     "output_type": "stream",
     "text": [
      "Test Score: 0.3292250704976205\n",
      "Test Accuracy: 0.6127012372016907\n"
     ]
    }
   ],
   "source": [
    "print(\"Test Score:\", dcnn_score[0])\n",
    "print(\"Test Accuracy:\", dcnn_score[1])"
   ]
  },
  {
   "cell_type": "code",
   "execution_count": null,
   "metadata": {},
   "outputs": [],
   "source": []
  },
  {
   "cell_type": "markdown",
   "metadata": {},
   "source": [
    "#### (TODO) using classified points model (range=5)"
   ]
  },
  {
   "cell_type": "markdown",
   "metadata": {},
   "source": [
    "### 1D CNN w/ LSTM"
   ]
  },
  {
   "cell_type": "code",
   "execution_count": null,
   "metadata": {},
   "outputs": [],
   "source": [
    "lstm = Sequential()\n",
    "\n",
    "embedding_layer = Embedding(vocab_size, 100, weights=[embedding_matrix], input_length=maxlen , trainable=False)\n",
    "\n",
    "lstm.add(embedding_layer)\n",
    "lstm.add(Dropout(0.2))\n",
    "lstm.add(Conv1D(BATCH_SIZE, 5, activation='relu'))\n",
    "lstm.add(Dropout(0.2))\n",
    "lstm.add(LSTM(BATCH_SIZE))\n",
    "lstm.add(Dense(1))\n",
    "\n",
    "lstm.compile(optimizer='adam', loss='mse', metrics=['acc'])"
   ]
  },
  {
   "cell_type": "code",
   "execution_count": null,
   "metadata": {},
   "outputs": [],
   "source": [
    "lstm.summary()"
   ]
  },
  {
   "cell_type": "code",
   "execution_count": null,
   "metadata": {},
   "outputs": [],
   "source": [
    "# simple early stopping\n",
    "es = EarlyStopping(monitor='val_loss', mode='min', verbose=1, patience=350)\n",
    "mc = ModelCheckpoint('./models/best_lstm.h5', monitor='val_acc', verbose=1, mode='max',  save_best_only=True)\n",
    "\n",
    "lstm_history = lstm.fit(X_train, point_train, \n",
    "                        batch_size=BATCH_SIZE, \n",
    "                        epochs=10000, \n",
    "                        verbose=0, \n",
    "                        validation_data=(X_test, point_test),\n",
    "                        callbacks=[es,mc])"
   ]
  },
  {
   "cell_type": "code",
   "execution_count": null,
   "metadata": {},
   "outputs": [],
   "source": []
  },
  {
   "cell_type": "markdown",
   "metadata": {},
   "source": [
    "### 2 CNN layer into LSTM"
   ]
  },
  {
   "cell_type": "code",
   "execution_count": null,
   "metadata": {},
   "outputs": [],
   "source": [
    "lstm2 = Sequential()\n",
    "\n",
    "embedding_layer = Embedding(vocab_size, 100, weights=[embedding_matrix], input_length=maxlen , trainable=False)\n",
    "\n",
    "lstm2.add(embedding_layer)\n",
    "lstm2.add(Dropout(0.2))\n",
    "lstm2.add(Conv1D(BATCH_SIZE, 5, activation='relu'))\n",
    "lstm2.add(MaxPooling1D(5))\n",
    "lstm2.add(Dropout(0.2))\n",
    "lstm2.add(Conv1D(BATCH_SIZE, 5, activation='relu'))\n",
    "lstm2.add(Dropout(0.2))\n",
    "lstm2.add(LSTM(BATCH_SIZE))\n",
    "lstm2.add(Dense(1))\n",
    "\n",
    "lstm2.compile(optimizer='adam', loss='mse', metrics=['acc'])"
   ]
  },
  {
   "cell_type": "code",
   "execution_count": null,
   "metadata": {},
   "outputs": [],
   "source": [
    "# simple early stopping\n",
    "es = EarlyStopping(monitor='val_loss', mode='min', verbose=1, patience=500)\n",
    "mc = ModelCheckpoint('./models/best_lstm2.h5', monitor='val_acc', verbose=1, mode='max', save_best_only=True)\n",
    "\n",
    "lstm2_history = lstm2.fit(X_train, point_train, \n",
    "                        batch_size=BATCH_SIZE, \n",
    "                        epochs=10000, \n",
    "                        verbose=0, \n",
    "                        validation_data=(X_test, point_test),\n",
    "                        callbacks=[es,mc])"
   ]
  },
  {
   "cell_type": "code",
   "execution_count": null,
   "metadata": {},
   "outputs": [],
   "source": []
  },
  {
   "cell_type": "markdown",
   "metadata": {},
   "source": [
    "### CNN with GRU layer"
   ]
  },
  {
   "cell_type": "code",
   "execution_count": null,
   "metadata": {},
   "outputs": [],
   "source": [
    "#gru is good for distinguishing context with word relationships\n",
    "gru = Sequential()\n",
    "\n",
    "embedding_layer = Embedding(vocab_size, 100, weights=[embedding_matrix], input_length=maxlen , trainable=False)\n",
    "\n",
    "gru.add(embedding_layer)\n",
    "gru.add(Dropout(0.2))\n",
    "gru.add(Conv1D(BATCH_SIZE, 5, activation='relu'))\n",
    "gru.add(Dropout(0.2))\n",
    "gru.add(GRU(BATCH_SIZE, recurrent_dropout=0.2))\n",
    "gru.add(Dense(1))\n",
    "\n",
    "gru.compile(optimizer='adam', loss='mse', metrics=['acc'])"
   ]
  },
  {
   "cell_type": "code",
   "execution_count": null,
   "metadata": {},
   "outputs": [],
   "source": [
    "# simple early stopping\n",
    "es = EarlyStopping(monitor='val_loss', mode='min', verbose=1, patience=350)\n",
    "mc = ModelCheckpoint('./models/best_gru.h5', monitor='val_acc', verbose=1, mode='max',  save_best_only=True)\n",
    "\n",
    "gru_history = gru.fit(X_train, point_train, \n",
    "                        batch_size=BATCH_SIZE, \n",
    "                        epochs=10000, \n",
    "                        verbose=0, \n",
    "                        validation_data=(X_test, point_test),\n",
    "                        callbacks=[es,mc])"
   ]
  },
  {
   "cell_type": "code",
   "execution_count": null,
   "metadata": {},
   "outputs": [],
   "source": []
  }
 ],
 "metadata": {
  "kernelspec": {
   "display_name": "Python 3",
   "language": "python",
   "name": "python3"
  },
  "language_info": {
   "codemirror_mode": {
    "name": "ipython",
    "version": 3
   },
   "file_extension": ".py",
   "mimetype": "text/x-python",
   "name": "python",
   "nbconvert_exporter": "python",
   "pygments_lexer": "ipython3",
   "version": "3.7.4"
  }
 },
 "nbformat": 4,
 "nbformat_minor": 2
}
